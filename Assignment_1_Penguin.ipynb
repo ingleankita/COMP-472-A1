{
  "nbformat": 4,
  "nbformat_minor": 0,
  "metadata": {
    "colab": {
      "provenance": []
    },
    "kernelspec": {
      "name": "python3",
      "display_name": "Python 3"
    },
    "language_info": {
      "name": "python"
    }
  },
  "cells": [
    {
      "cell_type": "code",
      "source": [
        "import pandas as pd\n",
        "import numpy as np\n",
        "import matplotlib.pyplot as plt\n",
        "import sklearn\n",
        "import statistics\n",
        "import graphviz\n",
        "from sklearn.preprocessing import OneHotEncoder\n",
        "from sklearn.model_selection import train_test_split\n",
        "from sklearn.model_selection import GridSearchCV\n",
        "from sklearn import tree\n",
        "from sklearn.neural_network import MLPClassifier\n",
        "from sklearn.metrics import confusion_matrix\n",
        "from sklearn.metrics import classification_report\n",
        "from sklearn.metrics import accuracy_score\n",
        "from sklearn.metrics import f1_score\n",
        "from sklearn.preprocessing import LabelEncoder\n",
        "%matplotlib inline"
      ],
      "metadata": {
        "id": "nOc5LaXK2IGA"
      },
      "execution_count": null,
      "outputs": []
    },
    {
      "cell_type": "markdown",
      "source": [
        "## TASK 1: Load the dataset into python using panda read_csv\n",
        "\n",
        "For the Penguin dataset, convert features **island** and **sex** to numerical format to be fed to the MLP using 2 methods:\n",
        "- 1-hot vectors\n",
        "- LabelEncoder"
      ],
      "metadata": {
        "id": "ydNolDnhGGZe"
      }
    },
    {
      "cell_type": "code",
      "source": [
        "# i. 1-hot vectors\n",
        "penguins_1 = pd.read_csv('sample_data/demo-penguins_027.csv')\n",
        "\n",
        "enc = OneHotEncoder()\n",
        "island = enc.fit_transform(np.array(penguins_1[[\"island\"]]))\n",
        "sex = enc.fit_transform(np.array(penguins_1[[\"sex\"]]))\n",
        "penguins_1[[\"island\"]] = island\n",
        "penguins_1[[\"sex\"]] = sex\n",
        "\n",
        "\n",
        "# ii. LabelEncoder - change Torgersen to 0, Biscoe to 1, Dream to 2\n",
        "penguins_2 = pd.read_csv('sample_data/demo-penguins_027.csv')\n",
        "penguins_2 = np.array(penguins_2)\n",
        "\n",
        "le = LabelEncoder()\n",
        "penguins_2[:, 1] = le.fit_transform(penguins_2[:, 1])\n",
        "penguins_2[:, 6] = le.fit_transform(penguins_2[:, 6])\n",
        "\n",
        "print(penguins_2[0:10])"
      ],
      "metadata": {
        "id": "1InC9oBU4c-L",
        "colab": {
          "base_uri": "https://localhost:8080/"
        },
        "outputId": "7b0323db-ea5d-422c-bedf-95e8ea6ef2ca"
      },
      "execution_count": null,
      "outputs": [
        {
          "output_type": "stream",
          "name": "stdout",
          "text": [
            "[['Chinstrap' 1 49.0 19.5 210 3950 1]\n",
            " ['Chinstrap' 1 48.1 16.4 199 3325 0]\n",
            " ['Adelie' 2 34.6 21.1 198 4400 1]\n",
            " ['Adelie' 0 37.7 18.7 180 3600 1]\n",
            " ['Gentoo' 0 43.6 13.9 217 4900 0]\n",
            " ['Adelie' 0 37.7 16.0 183 3075 0]\n",
            " ['Adelie' 1 42.2 18.5 180 3550 0]\n",
            " ['Adelie' 2 36.2 16.1 187 3550 0]\n",
            " ['Gentoo' 0 46.2 14.9 221 5300 1]\n",
            " ['Adelie' 2 45.8 18.9 197 4150 1]]\n"
          ]
        }
      ]
    },
    {
      "cell_type": "markdown",
      "source": [
        "### TASK 2:\n",
        "- Plot the percentage of the instances in each output class\n",
        "- Store the graphic in a file called penguin-classes.gif\n",
        "\n",
        "**QUESTION: Which metric is more appropriate to use to evaluate the performance?**\n"
      ],
      "metadata": {
        "id": "jxsRI1gRHexS"
      }
    },
    {
      "cell_type": "code",
      "source": [
        "# Plot percentage of instances in each species for penguins\n",
        "output_classes = penguins_1['species'].value_counts()\n",
        "plt.pie(output_classes, labels=output_classes.index, autopct='%1.1f%%')\n",
        "plt.title(\"Percentage of instances in each output class for penguin\")\n",
        "plt.savefig(f'penguin-classes.png') # save as .png file\n",
        "plt.show()"
      ],
      "metadata": {
        "colab": {
          "base_uri": "https://localhost:8080/",
          "height": 428
        },
        "id": "z7AUz888HpSo",
        "outputId": "e975598f-d572-40bb-c639-3db418a21447"
      },
      "execution_count": null,
      "outputs": [
        {
          "output_type": "display_data",
          "data": {
            "text/plain": [
              "<Figure size 640x480 with 1 Axes>"
            ],
            "image/png": "[encoded data removed]"
          },
          "metadata": {}
        }
      ]
    },
    {
      "cell_type": "markdown",
      "source": [
        "### TASK 3: Split the dataset using train test split using the default parameter values.\n",
        "Default: train = 75%, test = 25%"
      ],
      "metadata": {
        "id": "cWyBQGFUNue4"
      }
    },
    {
      "cell_type": "code",
      "source": [
        "# Split the penguin dataset into train and test sets\n",
        "P_X = penguins_2[:, 1:7]\n",
        "P_y = penguins_2[:, 0]\n",
        "P_X_train, P_X_test, P_y_train, P_y_test = train_test_split(P_X, P_y, random_state=None)"
      ],
      "metadata": {
        "id": "mvmt5wH4NwT9"
      },
      "execution_count": null,
      "outputs": []
    },
    {
      "cell_type": "markdown",
      "source": [
        "### TASK 4 & 5:\n",
        "#### Train and test 4 different classifiers:\n",
        "- Base-DT: a Decision Tree with the default parameters\n",
        "- Top-DT: a better performing Decision Tree found using a gridsearch\n",
        "- Base-MLP: a Multi-Layered Perceptron with 2 hidden layers of 100+100 neurons, sigmoid/logisti, stochastic gradient descent, and default values for the rest of the parameters.\n",
        "- Top-MLP: a better performing Multi-Layered Perceptron found using grid search\n",
        "\n",
        "#### For each of the 4 classifiers, append the performance metrics into the penguin-performance.txt file\n",
        "- a clear separator, a string clearly describing the model( model name + hyper-parameter values).\n",
        "- confusion matrix\n",
        "- precision, recall, and F1-measure for each class\n",
        "- accuracy, macro-average F1 and weighted-average F1 of the model\n"
      ],
      "metadata": {
        "id": "V0bBRYsRPkUg"
      }
    },
    {
      "cell_type": "code",
      "source": [
        "epochs = 6\n",
        "\n",
        "accuracies_basedt = []\n",
        "accuracies_topdt = []\n",
        "accuracies_basemlp = []\n",
        "accuracies_topmlp = []\n",
        "\n",
        "macro_averages_f1_basedt = []\n",
        "macro_averages_f1_topdt = []\n",
        "macro_averages_f1_basemlp = []\n",
        "macro_averages_f1_topmlp = []\n",
        "\n",
        "weighted_averages_f1_basedt = []\n",
        "weighted_averages_f1_topdt = []\n",
        "weighted_averages_f1_basemlp = []\n",
        "weighted_averages_f1_topmlp = []\n",
        "\n",
        "\n",
        "with open(f\"penguin-performance.txt\", \"w\") as out:\n",
        "  out.write(\"********************* Penguin Performance ********************* \\n\\n\")"
      ],
      "metadata": {
        "id": "0G_Ho5DrSNgI"
      },
      "execution_count": null,
      "outputs": []
    },
    {
      "cell_type": "markdown",
      "source": [
        "#### TRAIN BASE-DT MODEL\n",
        "##### Hyperparameters: criterion = \"gini\", max_depth = None (go to leave nodes), min_samples_split = 2\n",
        "\n",
        "***Note: ***The model being re-instantiated in very iteration can lead to a potential issue. That is the model is trained from scratch in each iteration without retaining the learning from the previous iteration.\n",
        "\n",
        "***Solution: ***Instatiate the model outside of the for loop"
      ],
      "metadata": {
        "id": "SAdlFgAe_APO"
      }
    },
    {
      "cell_type": "code",
      "source": [
        "# Instantiate the model\n",
        "basedt_model = tree.DecisionTreeClassifier()\n",
        "\n",
        "for _ in range(0, epochs):\n",
        "  # Fit the model with the train dataset\n",
        "  basedt_model.fit(P_X_train, P_y_train)\n",
        "\n",
        "  # Output the graphic tree to file using graphviz\n",
        "  dot_data = tree.export_graphviz(basedt_model, out_file=None,\n",
        "      feature_names=['island', 'culmen_length_mm', 'culmen_depth_mm', 'flipper_length_mm', 'body_mass_g', 'sex'],\n",
        "      class_names=['Adelie', 'Dream','Gentoo'],\n",
        "      filled=True, rounded=True)\n",
        "  graph = graphviz.Source(dot_data)\n",
        "  graph.render(f\"BaseDT_Tree{_+1}\")\n",
        "\n",
        "  # After training, predict the dataset\n",
        "  P_y_pred = basedt_model.predict(P_X_test)\n",
        "\n",
        "  # Append performance metrics to a list for TASK 5\n",
        "  accuracies_basedt.append(accuracy_score(P_y_test, P_y_pred))\n",
        "  macro_averages_f1_basedt.append(f1_score(P_y_test, P_y_pred, average='macro'))\n",
        "  weighted_averages_f1_basedt.append(f1_score(P_y_test, P_y_pred, average='weighted'))\n",
        "\n",
        "  # Append output of Base-DT Model to file\n",
        "  with open(f\"penguin-performance.txt\", \"a\") as out:\n",
        "      out.write(f\"********************* Base-DT Model (iteration {_+1}) *********************\\n\")\n",
        "      out.write(f\"Model: Base-DT Model\\n\")\n",
        "      out.write(f\"Hyperparameters (default):\\n\")\n",
        "      out.write(f\"criterion: gini, max_depth: None, min_samples_split: 2\\n\")\n",
        "      out.write(\"\\n\")\n",
        "      out.write(f\"Confusion Matrix: \\n{confusion_matrix(P_y_test, P_y_pred)}\\n\")\n",
        "      out.write(\"\\n\")\n",
        "      out.write(f\"Classification Report: \\n{classification_report(P_y_test, P_y_pred)}\\n\")\n"
      ],
      "metadata": {
        "id": "d0DDfcUj-83f"
      },
      "execution_count": null,
      "outputs": []
    },
    {
      "cell_type": "markdown",
      "source": [
        "#### TRAIN TOP-DT MODEL\n",
        "##### Hyperparameters: Best hyperarameters found using GridSearchCV, values vary for each epoch\n",
        "\n",
        "***Note:*** Re-instantiating the model in each iteration might not capture the learning progress across epochs, especially in the context of hyperparameter tuning and model training.\n",
        "\n",
        "***Solution:*** Maintain the same model instance and retrain it with different hyperparameters in each iteration\n",
        "\n"
      ],
      "metadata": {
        "id": "qAF5i7gjBfgn"
      }
    },
    {
      "cell_type": "code",
      "source": [
        "# The parameters we are experiencing with\n",
        "parameters = {'criterion': ('gini', 'entropy'), 'max_depth': [2, 5, None], 'min_samples_split': [2, 3, 5]}\n",
        "\n",
        "# Instantiate the model\n",
        "topdt_model = tree.DecisionTreeClassifier()\n",
        "\n",
        "for _ in range(0, epochs):\n",
        "  # Fit the model with the training dataset to find the best hyperparameters\n",
        "  grid_search = GridSearchCV(topdt_model, parameters)\n",
        "  grid_search.fit(P_X_train, P_y_train)\n",
        "\n",
        "  # Extract best hyperparameters\n",
        "  best_params = grid_search.best_params_\n",
        "\n",
        "  # Update the model with the best hyperparameters found\n",
        "  topdt_model.set_params(criterion=best_params[\"criterion\"], max_depth=best_params[\"max_depth\"], min_samples_split=best_params[\"min_samples_split\"])\n",
        "  topdt_model.fit(P_X_train, P_y_train)\n",
        "\n",
        "  # Output the graphic tree to file using graphviz\n",
        "  dot_data_TopDT = tree.export_graphviz(topdt_model, out_file=None,\n",
        "      feature_names=['island', 'culmen_length_mm', 'culmen_depth_mm', 'flipper_length_mm', 'body_mass_g', 'sex'],\n",
        "      class_names=['Adelie', 'Dream','Gentoo'],\n",
        "      filled=True, rounded=True)\n",
        "  graph = graphviz.Source(dot_data_TopDT)\n",
        "  graph.render(f\"TopDT_Tree{_+1}\")\n",
        "\n",
        "  # After training, predict the test dataset\n",
        "  P_y_pred = topdt_model.predict(P_X_test)\n",
        "\n",
        "  # Append performance metrics to a list for TASK 5\n",
        "  accuracies_topdt.append(accuracy_score(P_y_test, P_y_pred))\n",
        "  macro_averages_f1_topdt.append(f1_score(P_y_test, P_y_pred, average='macro'))\n",
        "  weighted_averages_f1_topdt.append(f1_score(P_y_test, P_y_pred, average='weighted'))\n",
        "\n",
        "  # Append output of Top-DT Model to file\n",
        "  with open(f\"penguin-performance.txt\", \"a\") as out:\n",
        "      out.write(f\"********************* Top-DT Model (iteration {_+1}) *********************\\n\")\n",
        "      out.write(f\"Model name: Top-DT Model\\n\")\n",
        "      out.write(f\"Best Hyperparameters:\\n\")\n",
        "      out.write(f\"{best_params}\\n\")\n",
        "      out.write(\"\\n\")\n",
        "      out.write(f\"Confusion Matrix: \\n{confusion_matrix(P_y_test, P_y_pred)}\\n\")\n",
        "      out.write(\"\\n\")\n",
        "      out.write(f\"Classification Report: \\n{classification_report(P_y_test, P_y_pred)}\\n\")"
      ],
      "metadata": {
        "id": "LiG9AnzUDfzM"
      },
      "execution_count": null,
      "outputs": []
    },
    {
      "cell_type": "markdown",
      "source": [
        "#### Train Base-MLP Model\n",
        "##### Hyperparameters (default): hidden_layer_sizes=(100, 100, ), activation='logistic', solver='sgd'\n",
        "\n",
        "***Note:*** The model being re-instantiated in very iteration can lead to a potential issue. That is the model is trained from scratch in each iteration without retaining the learning from the previous iteration.\n",
        "\n",
        "***Warning:*** \"UndefinedMetricWarning: Precision and F-score are ill-defined and being set to 0.0 in labels with no predicted samples. Use `zero_division` parameter to control this behavior.\"\n",
        "\n",
        "***Solution:***\n",
        "- Instatiate the model outside of the for\n",
        "- Warning arises when some labels in the test set have no predicted samples, leading to precision and F-score being ill-defined and set to 0.0. To handle this warning, utilize the zero_division parameter to control the behavior when the division is zero.\n",
        "\n"
      ],
      "metadata": {
        "id": "_lEqwVqzEOpT"
      }
    },
    {
      "cell_type": "code",
      "source": [
        "# Instantiate the model with default value\n",
        "basemlp_model = MLPClassifier(hidden_layer_sizes=(100, 100), activation='logistic', solver='sgd')\n",
        "\n",
        "for _ in range(0, epochs):\n",
        "  # Fit the model with the training dataset\n",
        "  basemlp_model.fit(P_X_train, P_y_train)\n",
        "\n",
        "  # After training, predict the test dataset\n",
        "  P_y_pred = basemlp_model.predict(P_X_test)\n",
        "\n",
        "  # Append performance metrics to a list for TASK 5\n",
        "  accuracies_basemlp.append(accuracy_score(P_y_test, P_y_pred))\n",
        "  macro_averages_f1_basemlp.append(f1_score(P_y_test, P_y_pred, average='macro'))\n",
        "  weighted_averages_f1_basemlp.append(f1_score(P_y_test, P_y_pred, average='weighted'))\n",
        "\n",
        "  # Append output of Top-DT Model to file\n",
        "  with open(f\"penguin-performance.txt\", \"a\") as out:\n",
        "      out.write(f\"********************* Base-MLP Model (iteration {_+1}) *********************\\n\")\n",
        "      out.write(f\"Model name: Base-MLP Model\\n\")\n",
        "      out.write(f\"Hyperparameters (default):\\n\")\n",
        "      out.write(f\"hidden_layer_sizes=(100, 100), activation='logistic', solver='sgd'\\n\")\n",
        "      out.write(\"\\n\")\n",
        "      out.write(f\"Confusion Matrix: \\n{confusion_matrix(P_y_test, P_y_pred)}\\n\")\n",
        "      out.write(\"\\n\")\n",
        "      out.write(f\"Classification Report: \\n{classification_report(P_y_test, P_y_pred, zero_division=1)}\\n\")"
      ],
      "metadata": {
        "id": "wnXsSAk9EOPE"
      },
      "execution_count": null,
      "outputs": []
    },
    {
      "cell_type": "markdown",
      "source": [
        "#### Train TOP-MLP Model\n",
        "##### Hyperparameters: Best hyperarameters found using GridSearchCV, values vary for each epoch\n",
        "\n",
        "***Note:*** Re-instantiating the model in each iteration might not capture the learning progress across epochs, especially in the context of hyperparameter tuning and model training.\n",
        "\n",
        "***Warning: ***Maximum iterations (200) reached and the optimization hasn't converged yet.warnings.warn(\n",
        "\n",
        "***Solution:***\n",
        "- To ensure the model maintains its learning across epochs and retains the best hyperparameters found, we'll retrain the same model instance using the updated hyperparameters without re-instantiating the model in each iteration.\n",
        "\n",
        "- Increase the max_iter parameter in the MLPClassifier to allow the optimization process to run for more iterations, giving it a better chance to converge. OR Adjusting the learning rate to control the step size during optimization. Lowering the learning rate helps the algorithm converge within fewer iterations."
      ],
      "metadata": {
        "id": "eXsVoP4sFSkE"
      }
    },
    {
      "cell_type": "code",
      "source": [
        "# The parameters we are experiencing with\n",
        "parameters = {'activation': ('logistic', 'tanh', 'relu'), 'hidden_layer_sizes': [(30, 50), (50, 25, 10)], 'solver': ['adam', 'sgd']}\n",
        "\n",
        "# Initialize the model\n",
        "topmlp_model = MLPClassifier()\n",
        "\n",
        "for _ in range(0, epochs):\n",
        "  # Instantiate the model using GridSearchCV\n",
        "  grid_search = GridSearchCV(topmlp_model, parameters)\n",
        "\n",
        "  # Fit the training dataset to find the best hyperparameters\n",
        "  grid_search.fit(P_X_train, P_y_train)\n",
        "\n",
        "  # Extract the best hyperparameters found\n",
        "  best_params = grid_search.best_params_\n",
        "\n",
        "  # Redefine the model with the best hyperparameters suggested from GridSearchCV\n",
        "  topmlp_model.set_params(hidden_layer_sizes=best_params[\"hidden_layer_sizes\"], activation=best_params[\"activation\"], solver=best_params[\"solver\"])\n",
        "  topmlp_model.fit(P_X_train, P_y_train)\n",
        "\n",
        "  # After training, predict the dataset\n",
        "  P_y_pred = topmlp_model.predict(P_X_test)\n",
        "\n",
        "  # Append performance metrics to a list for TASK 5\n",
        "  accuracies_topmlp.append(accuracy_score(P_y_test, P_y_pred))\n",
        "  macro_averages_f1_topmlp.append(f1_score(P_y_test, P_y_pred, average='macro'))\n",
        "  weighted_averages_f1_topmlp.append(f1_score(P_y_test, P_y_pred, average='weighted'))\n",
        "\n",
        "  # Append output of Top-DT Model to file\n",
        "  with open(f\"penguin-performance.txt\", \"a\") as out:\n",
        "    out.write(f\"********************* Top-MLP Model (iteration {_+1}) *********************\\n\")\n",
        "    out.write(f\"Model name: Top-MLP Model\\n\")\n",
        "    out.write(f\"Best Hyperparameters:\\n\")\n",
        "    out.write(f\"{best_params}\\n\")\n",
        "    out.write(\"\\n\")\n",
        "    out.write(f\"Confusion Matrix: \\n{confusion_matrix(P_y_test, P_y_pred)}\\n\")\n",
        "    out.write(\"\\n\")\n",
        "    out.write(f\"Classification Report: \\n{classification_report(P_y_test, P_y_pred, zero_division=1)}\\n\")\n"
      ],
      "metadata": {
        "id": "225NcryYPmXG",
        "colab": {
          "base_uri": "https://localhost:8080/"
        },
        "outputId": "93aa6125-930b-4f26-f0aa-901f2387fcc7"
      },
      "execution_count": null,
      "outputs": [
        {
          "output_type": "stream",
          "name": "stderr",
          "text": [
            "/usr/local/lib/python3.10/dist-packages/sklearn/neural_network/_multilayer_perceptron.py:686: ConvergenceWarning: Stochastic Optimizer: Maximum iterations (200) reached and the optimization hasn't converged yet.\n",
            "  warnings.warn(\n",
            "/usr/local/lib/python3.10/dist-packages/sklearn/neural_network/_multilayer_perceptron.py:686: ConvergenceWarning: Stochastic Optimizer: Maximum iterations (200) reached and the optimization hasn't converged yet.\n",
            "  warnings.warn(\n",
            "/usr/local/lib/python3.10/dist-packages/sklearn/neural_network/_multilayer_perceptron.py:686: ConvergenceWarning: Stochastic Optimizer: Maximum iterations (200) reached and the optimization hasn't converged yet.\n",
            "  warnings.warn(\n",
            "/usr/local/lib/python3.10/dist-packages/sklearn/neural_network/_multilayer_perceptron.py:686: ConvergenceWarning: Stochastic Optimizer: Maximum iterations (200) reached and the optimization hasn't converged yet.\n",
            "  warnings.warn(\n",
            "/usr/local/lib/python3.10/dist-packages/sklearn/neural_network/_multilayer_perceptron.py:686: ConvergenceWarning: Stochastic Optimizer: Maximum iterations (200) reached and the optimization hasn't converged yet.\n",
            "  warnings.warn(\n",
            "/usr/local/lib/python3.10/dist-packages/sklearn/neural_network/_multilayer_perceptron.py:686: ConvergenceWarning: Stochastic Optimizer: Maximum iterations (200) reached and the optimization hasn't converged yet.\n",
            "  warnings.warn(\n",
            "/usr/local/lib/python3.10/dist-packages/sklearn/neural_network/_multilayer_perceptron.py:686: ConvergenceWarning: Stochastic Optimizer: Maximum iterations (200) reached and the optimization hasn't converged yet.\n",
            "  warnings.warn(\n",
            "/usr/local/lib/python3.10/dist-packages/sklearn/neural_network/_multilayer_perceptron.py:686: ConvergenceWarning: Stochastic Optimizer: Maximum iterations (200) reached and the optimization hasn't converged yet.\n",
            "  warnings.warn(\n",
            "/usr/local/lib/python3.10/dist-packages/sklearn/neural_network/_multilayer_perceptron.py:686: ConvergenceWarning: Stochastic Optimizer: Maximum iterations (200) reached and the optimization hasn't converged yet.\n",
            "  warnings.warn(\n",
            "/usr/local/lib/python3.10/dist-packages/sklearn/neural_network/_multilayer_perceptron.py:686: ConvergenceWarning: Stochastic Optimizer: Maximum iterations (200) reached and the optimization hasn't converged yet.\n",
            "  warnings.warn(\n",
            "/usr/local/lib/python3.10/dist-packages/sklearn/neural_network/_multilayer_perceptron.py:686: ConvergenceWarning: Stochastic Optimizer: Maximum iterations (200) reached and the optimization hasn't converged yet.\n",
            "  warnings.warn(\n",
            "/usr/local/lib/python3.10/dist-packages/sklearn/neural_network/_multilayer_perceptron.py:686: ConvergenceWarning: Stochastic Optimizer: Maximum iterations (200) reached and the optimization hasn't converged yet.\n",
            "  warnings.warn(\n",
            "/usr/local/lib/python3.10/dist-packages/sklearn/neural_network/_multilayer_perceptron.py:686: ConvergenceWarning: Stochastic Optimizer: Maximum iterations (200) reached and the optimization hasn't converged yet.\n",
            "  warnings.warn(\n",
            "/usr/local/lib/python3.10/dist-packages/sklearn/neural_network/_multilayer_perceptron.py:686: ConvergenceWarning: Stochastic Optimizer: Maximum iterations (200) reached and the optimization hasn't converged yet.\n",
            "  warnings.warn(\n",
            "/usr/local/lib/python3.10/dist-packages/sklearn/neural_network/_multilayer_perceptron.py:686: ConvergenceWarning: Stochastic Optimizer: Maximum iterations (200) reached and the optimization hasn't converged yet.\n",
            "  warnings.warn(\n",
            "/usr/local/lib/python3.10/dist-packages/sklearn/neural_network/_multilayer_perceptron.py:686: ConvergenceWarning: Stochastic Optimizer: Maximum iterations (200) reached and the optimization hasn't converged yet.\n",
            "  warnings.warn(\n",
            "/usr/local/lib/python3.10/dist-packages/sklearn/neural_network/_multilayer_perceptron.py:686: ConvergenceWarning: Stochastic Optimizer: Maximum iterations (200) reached and the optimization hasn't converged yet.\n",
            "  warnings.warn(\n",
            "/usr/local/lib/python3.10/dist-packages/sklearn/neural_network/_multilayer_perceptron.py:686: ConvergenceWarning: Stochastic Optimizer: Maximum iterations (200) reached and the optimization hasn't converged yet.\n",
            "  warnings.warn(\n",
            "/usr/local/lib/python3.10/dist-packages/sklearn/neural_network/_multilayer_perceptron.py:686: ConvergenceWarning: Stochastic Optimizer: Maximum iterations (200) reached and the optimization hasn't converged yet.\n",
            "  warnings.warn(\n",
            "/usr/local/lib/python3.10/dist-packages/sklearn/neural_network/_multilayer_perceptron.py:686: ConvergenceWarning: Stochastic Optimizer: Maximum iterations (200) reached and the optimization hasn't converged yet.\n",
            "  warnings.warn(\n",
            "/usr/local/lib/python3.10/dist-packages/sklearn/neural_network/_multilayer_perceptron.py:686: ConvergenceWarning: Stochastic Optimizer: Maximum iterations (200) reached and the optimization hasn't converged yet.\n",
            "  warnings.warn(\n",
            "/usr/local/lib/python3.10/dist-packages/sklearn/neural_network/_multilayer_perceptron.py:686: ConvergenceWarning: Stochastic Optimizer: Maximum iterations (200) reached and the optimization hasn't converged yet.\n",
            "  warnings.warn(\n",
            "/usr/local/lib/python3.10/dist-packages/sklearn/neural_network/_multilayer_perceptron.py:686: ConvergenceWarning: Stochastic Optimizer: Maximum iterations (200) reached and the optimization hasn't converged yet.\n",
            "  warnings.warn(\n"
          ]
        }
      ]
    },
    {
      "cell_type": "markdown",
      "source": [
        "### TASK 6: For each model and append in the performance files:\n",
        "- average accuracy & the variance\n",
        "- average macro-average F1 & the variance\n",
        "- average weighted-average F1 & the variance.\n",
        "\n",
        "**QUESTION: Does the same model give you the same performance every time? is the standard deviation high?**"
      ],
      "metadata": {
        "id": "I7QarwlfUwoL"
      }
    },
    {
      "cell_type": "code",
      "source": [
        "# Append averages in performance files\n",
        "with open(f\"penguin-performance.txt\", \"a\") as out:\n",
        "  out.write(f\"********************* Evaluation after running multiple epochs *********************\\n\")\n",
        "  out.write(f\"Accuracy ------------------------ \\n\")\n",
        "  out.write(f\"BaseDT-Model = {statistics.mean(accuracies_basedt)}\\n\")\n",
        "  out.write(f\"TopDT-Model = {statistics.mean(accuracies_topdt)}\\n\")\n",
        "  out.write(f\"BaseMLP-Model = {statistics.mean(accuracies_basemlp)}\\n\")\n",
        "  out.write(f\"TopMLP-Model = {statistics.mean(accuracies_topmlp)}\\n \\n\")\n",
        "\n",
        "  out.write(f\"Variance ------------------------ \\n\")\n",
        "  out.write(f\"BaseDT-Model = {statistics.stdev(accuracies_basedt)}\\n\")\n",
        "  out.write(f\"TopDT-Model = {statistics.stdev(accuracies_topdt)}\\n\")\n",
        "  out.write(f\"BaseMLP-Model = {statistics.stdev(accuracies_basemlp)}\\n\")\n",
        "  out.write(f\"TopMLP-Model = {statistics.stdev(accuracies_topmlp)}\\n \\n\")\n",
        "\n",
        "  out.write(f\"Average macro-average F1 ------------------------ \\n\")\n",
        "  out.write(f\"BaseDT-Model = {statistics.mean(macro_averages_f1_basedt)}\\n\")\n",
        "  out.write(f\"TopDT-Model = {statistics.mean(macro_averages_f1_topdt)}\\n\")\n",
        "  out.write(f\"BaseMLP-Model = {statistics.mean(macro_averages_f1_basemlp)}\\n\")\n",
        "  out.write(f\"TopMLP-Model = {statistics.mean(macro_averages_f1_topmlp)}\\n \\n\")\n",
        "\n",
        "  out.write(f\"Average weighted-average F1 ------------------------ \\n\")\n",
        "  out.write(f\"BaseDT-Model = {statistics.mean(weighted_averages_f1_basedt)}\\n\")\n",
        "  out.write(f\"TopDT-Model = {statistics.mean(weighted_averages_f1_topdt)}\\n\")\n",
        "  out.write(f\"BaseMLP-Model = {statistics.mean(weighted_averages_f1_basemlp)}\\n\")\n",
        "  out.write(f\"TopMLP-Model = {statistics.mean(weighted_averages_f1_topmlp)}\\n \\n\")"
      ],
      "metadata": {
        "id": "N84yKi8iZ0sR"
      },
      "execution_count": null,
      "outputs": []
    }
  ]
}